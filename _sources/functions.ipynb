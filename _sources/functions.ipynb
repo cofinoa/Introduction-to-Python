{
 "cells": [
  {
   "cell_type": "markdown",
   "metadata": {},
   "source": [
    "# Functions\n",
    "\n",
    "Function blocks must be indented as other control-flow blocks."
   ]
  },
  {
   "cell_type": "code",
   "execution_count": 51,
   "metadata": {},
   "outputs": [
    {
     "name": "stdout",
     "output_type": "stream",
     "text": [
      "Hello world!\n"
     ]
    }
   ],
   "source": [
    "def hello():\n",
    "     print(\"Hello world!\")\n",
    "        \n",
    "hello()"
   ]
  },
  {
   "cell_type": "markdown",
   "metadata": {},
   "source": [
    "Functions can return objects. By default, functions return **None**."
   ]
  },
  {
   "cell_type": "code",
   "execution_count": 15,
   "metadata": {},
   "outputs": [
    {
     "data": {
      "text/plain": [
       "5"
      ]
     },
     "execution_count": 15,
     "metadata": {},
     "output_type": "execute_result"
    }
   ],
   "source": [
    "def add(x, y):\n",
    "    \"\"\"\n",
    "    A triple quoted string is usually written at the begging of the fuction as documentation \n",
    "    regarding what the function does and its parameters. \n",
    "    \"\"\"\n",
    "    return x + y\n",
    "\n",
    "add(2,3)"
   ]
  },
  {
   "cell_type": "markdown",
   "metadata": {},
   "source": [
    "Functions are first-class objects, which means they can be:\n",
    "\n",
    " * assigned to a variable\n",
    " * an item in a list (or any collection)\n",
    " * passed as an argument to another function. (check last section about decorators)\n",
    "        \n",
    "To call them append () after the variable that stores the function."
   ]
  },
  {
   "cell_type": "code",
   "execution_count": 49,
   "metadata": {},
   "outputs": [],
   "source": [
    "list_of_functions = [hello, add]"
   ]
  },
  {
   "cell_type": "code",
   "execution_count": 55,
   "metadata": {},
   "outputs": [
    {
     "name": "stdout",
     "output_type": "stream",
     "text": [
      "Hello world!\n"
     ]
    }
   ],
   "source": [
    "a = list_of_functions[0]()"
   ]
  },
  {
   "cell_type": "code",
   "execution_count": 56,
   "metadata": {},
   "outputs": [
    {
     "data": {
      "text/plain": [
       "True"
      ]
     },
     "execution_count": 56,
     "metadata": {},
     "output_type": "execute_result"
    }
   ],
   "source": [
    "a is None"
   ]
  },
  {
   "cell_type": "code",
   "execution_count": 54,
   "metadata": {},
   "outputs": [
    {
     "data": {
      "text/plain": [
       "5"
      ]
     },
     "execution_count": 54,
     "metadata": {},
     "output_type": "execute_result"
    }
   ],
   "source": [
    "list_of_functions[1](2,3)"
   ]
  },
  {
   "cell_type": "markdown",
   "metadata": {},
   "source": [
    "### Input parameters\n",
    "\n",
    "There are two types of input parameters: positional and keyword parameters. \n",
    "\n",
    "* **Positional parameters** are mandatory and are specified by their position when the function is called.\n",
    "* **Keyword parameters** are optional parameters called by name. The order of the keyword arguments does not matter. Moreover, they allow you to specify default values.\n",
    "\n"
   ]
  },
  {
   "cell_type": "markdown",
   "metadata": {},
   "source": [
    "<div class=\"alert alert-block alert-danger\"> <strong>&#9888; WARNING &#9888; </strong>\n",
    "    \n",
    "Default values are evaluated when the function is defined, not when it is called. This can be problematic when using mutable types (e.g. dictionary or list) and modifying them in the function body, since the modifications will be persistent across invocations of the function.\n",
    "</div>"
   ]
  },
  {
   "cell_type": "code",
   "execution_count": 64,
   "metadata": {},
   "outputs": [
    {
     "name": "stdout",
     "output_type": "stream",
     "text": [
      "out = [1]\n"
     ]
    }
   ],
   "source": [
    "def add_to_list(x, l=[]):\n",
    "    l.append(x)\n",
    "    return l\n",
    "    \n",
    "x, y = 1, 2\n",
    "\n",
    "out = add_to_list(x)\n",
    "print(f\"{out = }\")"
   ]
  },
  {
   "cell_type": "code",
   "execution_count": 65,
   "metadata": {},
   "outputs": [
    {
     "name": "stdout",
     "output_type": "stream",
     "text": [
      "out = [1, 2]\n"
     ]
    }
   ],
   "source": [
    "out = add_to_list(y)\n",
    "print(f\"{out = }\")"
   ]
  },
  {
   "cell_type": "markdown",
   "metadata": {},
   "source": [
    "### Anonymos functions *lambda*"
   ]
  },
  {
   "cell_type": "markdown",
   "metadata": {},
   "source": [
    " a lambda function has the following characteristics:\n",
    "\n",
    "* It can only contain expressions and can’t include statements (return, pass, assert, raise, etc.) in its body.\n",
    "* It is written as a single line of execution.\n",
    "* It does not support type annotations.\n",
    "* It can be immediately invoked (IIFE).\n"
   ]
  },
  {
   "cell_type": "code",
   "execution_count": 67,
   "metadata": {},
   "outputs": [
    {
     "data": {
      "text/plain": [
       "4"
      ]
     },
     "execution_count": 67,
     "metadata": {},
     "output_type": "execute_result"
    }
   ],
   "source": [
    "add_one = lambda x: x + 1\n",
    "\n",
    "add_one(3)"
   ]
  },
  {
   "cell_type": "code",
   "execution_count": 68,
   "metadata": {},
   "outputs": [
    {
     "data": {
      "text/plain": [
       "'Full name: Ramón García'"
      ]
     },
     "execution_count": 68,
     "metadata": {},
     "output_type": "execute_result"
    }
   ],
   "source": [
    "full_name = lambda first, last: f'Full name: {first.title()} {last.title()}'\n",
    "\n",
    "full_name('ramón','garcía')"
   ]
  },
  {
   "cell_type": "markdown",
   "metadata": {},
   "source": [
    "**Immediately Invoked Function Expression**\n",
    "```python\n",
    "(lambda x, y: x + y)(2,3)\n",
    "```\n",
    "Python does not encourage using immediately invoked lambda expressions. It simply results from a lambda expression being callable, unlike the body of a normal function.\n",
    "\n",
    "Lambda functions are frequently used with higher-order functions, which take one or more functions as arguments or return one or more functions. E.g.,\n",
    "```python\n",
    "def hof(x, f):\n",
    "    return x + f(x)\n",
    "\n",
    "hof(x, lambda x: x**2)\n",
    "```\n",
    "Python exposes higher-order functions as built-in functions or in the standard library. Examples include map(), filter(), functools.reduce(), as well as key functions like sort(), sorted(), min(), and max(). You’ll use lambda functions together with Python higher-order functions in Appropriate Uses of Lambda Expressions."
   ]
  },
  {
   "cell_type": "code",
   "execution_count": 79,
   "metadata": {},
   "outputs": [
    {
     "name": "stdout",
     "output_type": "stream",
     "text": [
      "out =[0, 2, 4]\n"
     ]
    }
   ],
   "source": [
    "out = list(map(lambda x: x*2, range(3)))\n",
    "print(f\"{out =}\")"
   ]
  },
  {
   "cell_type": "markdown",
   "metadata": {},
   "source": [
    "**Key Functions**\n",
    "\n",
    "\n",
    "    sort(): list method\n",
    "    sorted(), min(), max(): built-in functions\n",
    "    nlargest() and nsmallest(): in the Heap queue algorithm module heapq\n"
   ]
  },
  {
   "cell_type": "code",
   "execution_count": 80,
   "metadata": {},
   "outputs": [
    {
     "name": "stdout",
     "output_type": "stream",
     "text": [
      "['id1', 'id100', 'id2', 'id22', 'id3', 'id30']\n",
      "['id1', 'id2', 'id3', 'id22', 'id30', 'id100']\n"
     ]
    }
   ],
   "source": [
    "ids = ['id1', 'id2', 'id30', 'id3', 'id22', 'id100']\n",
    "print(sorted(ids)) # Lexicographic sort\n",
    "\n",
    "sorted_ids = sorted(ids, key=lambda x: int(x[2:])) # Integer sort\n",
    "print(sorted_ids)"
   ]
  },
  {
   "cell_type": "markdown",
   "metadata": {},
   "source": [
    "**Arguments**"
   ]
  },
  {
   "cell_type": "code",
   "execution_count": 75,
   "metadata": {},
   "outputs": [
    {
     "data": {
      "text/plain": [
       "6"
      ]
     },
     "execution_count": 75,
     "metadata": {},
     "output_type": "execute_result"
    }
   ],
   "source": [
    "(lambda x, y, z=3: x + y + z)(1, y=2)"
   ]
  },
  {
   "cell_type": "code",
   "execution_count": 76,
   "metadata": {},
   "outputs": [
    {
     "data": {
      "text/plain": [
       "6"
      ]
     },
     "execution_count": 76,
     "metadata": {},
     "output_type": "execute_result"
    }
   ],
   "source": [
    "(lambda *args: sum(args))(1,2,3)"
   ]
  },
  {
   "cell_type": "code",
   "execution_count": 77,
   "metadata": {},
   "outputs": [
    {
     "data": {
      "text/plain": [
       "6"
      ]
     },
     "execution_count": 77,
     "metadata": {},
     "output_type": "execute_result"
    }
   ],
   "source": [
    "(lambda **kwargs: sum(kwargs.values()))(one=1, two=2, three=3)"
   ]
  },
  {
   "cell_type": "markdown",
   "metadata": {},
   "source": [
    "### Modifying variables in functions\n",
    "\n",
    "Can you modify the value of a variable inside a function? Most languages (C, Java, …) distinguish “passing by value” and “passing by reference”. In Python, such a distinction is somewhat artificial, and it is a bit subtle whether your variables are going to be modified or not. Fortunately, there exist clear rules.\n",
    "\n",
    "In Python the parameters given to functions are references to objects, which are passed by value. When you pass a variable to a function, python passes the reference to the object to which the variable refers (the value). Not the variable itself.\n",
    "\n",
    "If the value passed in a function is immutable, the function does not modify the caller’s variable. If the value is mutable, the function may modify the caller’s variable in-place"
   ]
  },
  {
   "cell_type": "code",
   "execution_count": 43,
   "metadata": {},
   "outputs": [],
   "source": [
    "def try_to_modify(x, y, z):\n",
    "    x = 23\n",
    "    y.append(42)\n",
    "    z = [99] # new reference\n",
    "\n",
    "\n",
    "a = 77    # immutable variable\n",
    "b = [99]  # mutable variable\n",
    "c = [28]"
   ]
  },
  {
   "cell_type": "code",
   "execution_count": 44,
   "metadata": {},
   "outputs": [
    {
     "name": "stdout",
     "output_type": "stream",
     "text": [
      "a =77\n",
      "b =[99]\n",
      "c =[28]\n"
     ]
    }
   ],
   "source": [
    "print(f\"{a =}\"); print(f\"{b =}\"); print(f\"{c =}\")"
   ]
  },
  {
   "cell_type": "code",
   "execution_count": 45,
   "metadata": {},
   "outputs": [
    {
     "name": "stdout",
     "output_type": "stream",
     "text": [
      "a =77\n",
      "b =[99, 42]\n",
      "c =[28]\n"
     ]
    }
   ],
   "source": [
    "try_to_modify(a, b, c)\n",
    "print(f\"{a =}\"); print(f\"{b =}\"); print(f\"{c =}\")"
   ]
  },
  {
   "cell_type": "markdown",
   "metadata": {},
   "source": [
    "### Scope of variables\n",
    "\n",
    "Variables declared outside the function can be referenced within the function.\n",
    "But these “global” variables cannot be modified within the function, unless declared global in the function."
   ]
  },
  {
   "cell_type": "code",
   "execution_count": 9,
   "metadata": {},
   "outputs": [
    {
     "name": "stdout",
     "output_type": "stream",
     "text": [
      "addx(10) = 15\n"
     ]
    }
   ],
   "source": [
    "x = 5\n",
    "def addx(y):\n",
    "     return x + y\n",
    "    \n",
    "print(f\"{addx(10) = }\")"
   ]
  },
  {
   "cell_type": "code",
   "execution_count": 13,
   "metadata": {},
   "outputs": [
    {
     "name": "stdout",
     "output_type": "stream",
     "text": [
      "x = 5\n"
     ]
    }
   ],
   "source": [
    "x = 5\n",
    "y = \"hello\"\n",
    "\n",
    "def modify_x(y):\n",
    "    x = y\n",
    "\n",
    "modify_x(y)\n",
    "\n",
    "print(f\"{x = }\")"
   ]
  },
  {
   "cell_type": "code",
   "execution_count": 14,
   "metadata": {},
   "outputs": [
    {
     "name": "stdout",
     "output_type": "stream",
     "text": [
      "x = 'hello'\n"
     ]
    }
   ],
   "source": [
    "x = 5\n",
    "y = \"hello\"\n",
    "\n",
    "def modify_x(y):\n",
    "    global x\n",
    "    x = y\n",
    "\n",
    "modify_x(y)\n",
    "\n",
    "print(f\"{x = }\")"
   ]
  },
  {
   "cell_type": "markdown",
   "metadata": {},
   "source": [
    "### \\*args and \\*\\*kwargs arguments\n",
    "\n",
    "There are special forms of parameters:\n",
    "\n",
    "  - **\\*args**: any number of positional arguments packed into a tuple\n",
    "  - \\****kwargs**: any number of keyword arguments packed into a dictionary\n"
   ]
  },
  {
   "cell_type": "code",
   "execution_count": 8,
   "metadata": {},
   "outputs": [
    {
     "name": "stdout",
     "output_type": "stream",
     "text": [
      "args is ('one', 'two')\n",
      "kwargs is {'x': 1, 'y': 2, 'z': 3}\n"
     ]
    }
   ],
   "source": [
    "def print_args(*args, **kwargs):\n",
    "    print('args is', args)\n",
    "    print('kwargs is', kwargs)\n",
    "\n",
    "print_args('one', 'two', x=1, y=2, z=3)"
   ]
  },
  {
   "cell_type": "markdown",
   "metadata": {},
   "source": [
    "###  Special type of functions: Decorators\n",
    "\n",
    "Decorators are functions that take a function as an argument and change its behaviour without modifying the  function it self. An example of decorator is the following:\n",
    "```python\n",
    "import time\n",
    "\n",
    "def time_function(f):\n",
    "    def wrapper(*args, **kwargs):\n",
    "        t0 = time.perf_counter()\n",
    "        res = f(*args, **kwargs)\n",
    "        t1 = time.perf_counter()\n",
    "        print(f\"Time spent executing {f.__name__} was {t1-t0:.3f} seconds.\")\n",
    "        return res\n",
    "    return wrapper     \n",
    "```\n",
    "\n",
    "This function receives an f function as an input, and returns the wrapper function. The wrapper function executes  \n",
    "```python \n",
    "f(*args,**kwargs)\n",
    "``` \n",
    "and times the time that executing it takes. The use of this decorator is very simple as shown below:"
   ]
  },
  {
   "cell_type": "code",
   "execution_count": 32,
   "metadata": {},
   "outputs": [],
   "source": [
    "import time\n",
    "\n",
    "def time_function(f):\n",
    "    def wrapper(*args, **kwargs):\n",
    "        t0 = time.perf_counter()\n",
    "        res = f(*args, **kwargs)\n",
    "        t1 = time.perf_counter()\n",
    "        print(f\"Time spent executing {f.__name__} was {t1-t0:.3f} seconds.\")\n",
    "        return res\n",
    "    return wrapper  \n",
    "\n",
    "\n",
    "def go_to_sleep_1(t, name=\"\"):\n",
    "    print(f\"{name} goes to sleep\")\n",
    "    time.sleep(t)\n",
    "    print(f\"{name} has slept for {t} hours.\")\n",
    "\n",
    "@time_function\n",
    "def go_to_sleep_2(t, name=\"\"):\n",
    "    print(f\"{name} goes to sleep\")\n",
    "    time.sleep(t)\n",
    "    print(f\"{name} has slept for {t} hours.\")"
   ]
  },
  {
   "cell_type": "code",
   "execution_count": 33,
   "metadata": {},
   "outputs": [],
   "source": [
    "t = 2\n",
    "name = \"Jane\""
   ]
  },
  {
   "cell_type": "code",
   "execution_count": 31,
   "metadata": {},
   "outputs": [
    {
     "name": "stdout",
     "output_type": "stream",
     "text": [
      "Jane goes to sleep\n",
      "Jane has slept for 2 hours.\n"
     ]
    }
   ],
   "source": [
    "go_to_sleep_1(t,name=name)"
   ]
  },
  {
   "cell_type": "code",
   "execution_count": 34,
   "metadata": {},
   "outputs": [
    {
     "name": "stdout",
     "output_type": "stream",
     "text": [
      "Jane goes to sleep\n",
      "Jane has slept for 2 hours.\n",
      "Time spent executing go_to_sleep_2 was 2.002 seconds.\n"
     ]
    }
   ],
   "source": [
    "go_to_sleep_2(t,name=name)"
   ]
  },
  {
   "cell_type": "code",
   "execution_count": null,
   "metadata": {},
   "outputs": [],
   "source": []
  }
 ],
 "metadata": {
  "kernelspec": {
   "display_name": "Python 3",
   "language": "python",
   "name": "python3"
  },
  "language_info": {
   "codemirror_mode": {
    "name": "ipython",
    "version": 3
   },
   "file_extension": ".py",
   "mimetype": "text/x-python",
   "name": "python",
   "nbconvert_exporter": "python",
   "pygments_lexer": "ipython3",
   "version": "3.8.5"
  }
 },
 "nbformat": 4,
 "nbformat_minor": 4
}
