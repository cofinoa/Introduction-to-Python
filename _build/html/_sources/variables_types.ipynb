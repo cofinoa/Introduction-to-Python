{
 "cells": [
  {
   "cell_type": "markdown",
   "metadata": {},
   "source": [
    "# Basic Data Types\n",
    "\n",
    "\n",
    "## Numerical data types\n",
    "\n",
    "Python support the following scalar numerical types:\n",
    "- **Integers:**\n",
    "    - Python interprets a sequence of decimal digits without any prefix to be a decimal number.\n",
    "    - To define an integer value in binary add 0b or 0B before"
   ]
  },
  {
   "cell_type": "code",
   "execution_count": 2,
   "metadata": {},
   "outputs": [
    {
     "data": {
      "text/plain": [
       "int"
      ]
     },
     "execution_count": 2,
     "metadata": {},
     "output_type": "execute_result"
    }
   ],
   "source": [
    "# This is a comment in python\n",
    "type(1)"
   ]
  },
  {
   "cell_type": "code",
   "execution_count": 6,
   "metadata": {},
   "outputs": [
    {
     "name": "stdout",
     "output_type": "stream",
     "text": [
      "87\n"
     ]
    }
   ],
   "source": [
    "print(0b01010111)"
   ]
  },
  {
   "cell_type": "markdown",
   "metadata": {},
   "source": [
    "- **Floats:**\n",
    "\n",
    "    - float values are specified with a decimal point. \n",
    "    - To write a number in scientific notation append the character e or E followed by a positive or negative integer.\n",
    "    - Python float values are represented as 64-bit “double-precision\". The maximum value a floating-point number can have is approximately $1.8 \\times 10^{308}$.\n",
    "    - The closest a nonzero number can be to zero is approximately $5.0 \\times 10^{-324}$."
   ]
  },
  {
   "cell_type": "code",
   "execution_count": 9,
   "metadata": {},
   "outputs": [
    {
     "name": "stdout",
     "output_type": "stream",
     "text": [
      "<class 'float'>\n",
      "<class 'float'>\n"
     ]
    }
   ],
   "source": [
    "print(type(12.0))\n",
    "print(type(3e-5))"
   ]
  },
  {
   "cell_type": "code",
   "execution_count": 10,
   "metadata": {},
   "outputs": [
    {
     "data": {
      "text/plain": [
       "inf"
      ]
     },
     "execution_count": 10,
     "metadata": {},
     "output_type": "execute_result"
    }
   ],
   "source": [
    "2e308"
   ]
  },
  {
   "cell_type": "code",
   "execution_count": 17,
   "metadata": {},
   "outputs": [
    {
     "name": "stdout",
     "output_type": "stream",
     "text": [
      "5e-324\n",
      "0.0\n"
     ]
    }
   ],
   "source": [
    "print(3e-324)\n",
    "print(1e-324)"
   ]
  },
  {
   "cell_type": "markdown",
   "metadata": {},
   "source": [
    "<div class=\"alert alert-block alert-success\">\n",
    "Floating point numbers are represented internally as binary (base-2) fractions. Most decimal fractions cannot be represented exactly as binary fractions, so in most cases the internal representation of a floating-point number is an approximation of the actual value. In practice, the difference between the actual value and the represented value is very small and should not usually cause significant problems.\n",
    "    \n",
    "    \n",
    "Try running the following snippet:\n",
    "    \n",
    "    a = 1.0\n",
    "    b = 1.0 + 1e-16\n",
    "    b - a \n",
    "    \n",
    "Do you get what you expected?\n",
    "</div>"
   ]
  },
  {
   "cell_type": "markdown",
   "metadata": {},
   "source": [
    "- **Complex:**\n",
    "    - Complex numbers are specified as <real part>+<imaginary part>j"
   ]
  },
  {
   "cell_type": "code",
   "execution_count": 18,
   "metadata": {},
   "outputs": [
    {
     "name": "stdout",
     "output_type": "stream",
     "text": [
      "<class 'complex'>\n"
     ]
    }
   ],
   "source": [
    "a = 1.5 + 0.5j\n",
    "print(type(a))"
   ]
  },
  {
   "cell_type": "code",
   "execution_count": 20,
   "metadata": {},
   "outputs": [
    {
     "data": {
      "text/plain": [
       "1.5"
      ]
     },
     "execution_count": 20,
     "metadata": {},
     "output_type": "execute_result"
    }
   ],
   "source": [
    "a.real"
   ]
  },
  {
   "cell_type": "code",
   "execution_count": 21,
   "metadata": {},
   "outputs": [
    {
     "data": {
      "text/plain": [
       "0.5"
      ]
     },
     "execution_count": 21,
     "metadata": {},
     "output_type": "execute_result"
    }
   ],
   "source": [
    "a.imag"
   ]
  },
  {
   "cell_type": "markdown",
   "metadata": {},
   "source": [
    "**Type conversion (casting)**"
   ]
  },
  {
   "cell_type": "code",
   "execution_count": 25,
   "metadata": {},
   "outputs": [
    {
     "name": "stdout",
     "output_type": "stream",
     "text": [
      "1\n",
      "(1+0j)\n",
      "2.0\n"
     ]
    }
   ],
   "source": [
    "print(int(1.6))\n",
    "print(complex(1))\n",
    "print(float(2))"
   ]
  },
  {
   "cell_type": "markdown",
   "metadata": {},
   "source": [
    "<div class=\"alert alert-block alert-danger\"> <strong>&#9888; WARNING &#9888; </strong>\n",
    "    \n",
    "In python 2, the divison between two integers returns an integer -> $3/2 = 1$\n",
    "    \n",
    "In python 3, the type of the result of an integer division is float -> $3/2 = 1.5$\n",
    "</div>\n"
   ]
  },
  {
   "cell_type": "markdown",
   "metadata": {},
   "source": [
    "## Variables\n",
    " \n",
    " * Variables consist of two parts: the name and the value. \n",
    " * To assign a variable to a name, use a single equals sign (=). E.g.,:\n",
    " ```python\n",
    "c = 3e8 # speed of light [m/s]\n",
    "```\n",
    " * Variable names may be made up of upper- and lowercase letters, digits (0–9), and underscores (_).\n",
    " \n",
    " * Python is dynamically typed. This means that:\n",
    "    1. Types are set on the variable values and not on the variable names.\n",
    "    2. Variable types do not need to be known before the variables are used.\n",
    "    3. Variable names can change types when their values are changed.\n",
    "```python\n",
    "x = 1 # integer\n",
    "x = \"hello\" # string\n",
    "```\n",
    " * In other language programs such as C, C++, Fortran, etc. is the other way round:\n",
    "    1. Types are set on the variable names and not on the variable values.\n",
    "    2. Variable types must be specified (declared or inferred) before they are used.\n",
    "    3. Variable types can never change, even if the value changes.\n",
    "```c\n",
    "int main{\n",
    "          int x=1;\n",
    "          return x;\n",
    "}\n",
    "```\n",
    " * Note that variables do not store a value in python, they store a pointer to the memory location where the actual value is stored."
   ]
  },
  {
   "cell_type": "code",
   "execution_count": 127,
   "metadata": {},
   "outputs": [
    {
     "name": "stdout",
     "output_type": "stream",
     "text": [
      "a: [2, 3] \tb: [2, 3]\n"
     ]
    }
   ],
   "source": [
    "a = [2, 3]\n",
    "b = a\n",
    "print('a:', a, '\\tb:', b)"
   ]
  },
  {
   "cell_type": "code",
   "execution_count": 128,
   "metadata": {},
   "outputs": [
    {
     "name": "stdout",
     "output_type": "stream",
     "text": [
      "a: [3, 3] \tb: [3, 3]\n"
     ]
    }
   ],
   "source": [
    "b[0] = 3\n",
    "print('a:', a, '\\tb:', b)"
   ]
  },
  {
   "cell_type": "markdown",
   "metadata": {},
   "source": [
    "To modify list b without modyfing a one should create a copy of the list:"
   ]
  },
  {
   "cell_type": "code",
   "execution_count": 130,
   "metadata": {},
   "outputs": [
    {
     "name": "stdout",
     "output_type": "stream",
     "text": [
      "a: [2, 3] \tb: [2, 3]\n"
     ]
    }
   ],
   "source": [
    "a = [2, 3]\n",
    "b = a[:]\n",
    "print('a:', a, '\\tb:', b)"
   ]
  },
  {
   "cell_type": "code",
   "execution_count": 131,
   "metadata": {},
   "outputs": [
    {
     "name": "stdout",
     "output_type": "stream",
     "text": [
      "a: [2, 3] \tb: [3, 3]\n"
     ]
    }
   ],
   "source": [
    "b[0] = 3\n",
    "print('a:', a, '\\tb:', b)"
   ]
  },
  {
   "cell_type": "markdown",
   "metadata": {},
   "source": [
    "## Special variables in python\n",
    "\n",
    "Python has a few special variables that are so important that their values are built into\n",
    "the language: \n",
    "```python\n",
    "True, False, None, NotImplemented\n",
    "```\n",
    "Each of these variables exists only once whenever you start up a Python interpreter. For this reason, they are\n",
    "known as **singletons**. \n",
    "\n",
    " * **Booleans**\n",
    " \n",
    "Other values can be converted to Booleans:\n",
    "```python\n",
    "bool(0) == False\n",
    "bool([]) == False\n",
    "bool(\"hello world\") == True\n",
    "```\n",
    " * **None**\n",
    " \n",
    "None is a special variable in Python that is used to denote that no value was given or\n",
    "that no behavior was defined. This is different than just using zero, an empty string,\n",
    "or some other nil value. Zero is a valid number, while None is not. If None happens to\n",
    "make it to a point in a program that expects an integer or float, then the program\n",
    "with rightfully break. With a zero, the program would have continued on. This fills\n",
    "the same role as NULL in C/C++ and null in JavaScript. \n",
    "\n",
    " * **NotImplemented**\n",
    " \n",
    "Unlike None, the variable NotImplemented is used to signal not only that behavior is\n",
    "not defined but also that the action is impossible, nonsensical, or nonexistent. For\n",
    "example, NotImplemented is used under the covers when you are trying to divide a\n",
    "string by a float."
   ]
  },
  {
   "cell_type": "markdown",
   "metadata": {},
   "source": [
    "## Strings\n",
    "\n",
    "- String can be specified with different syntaxes: simple, double or triple quotes. With the latter one can create strings that can span several lines.\n",
    "- Strings are one of the data types Python considers immutable, meaning not able to be changed. In fact, all the data types you have seen so far are immutable.\n",
    "- Strings can be sliced.\n",
    "\n",
    "<div class=\"alert alert-block alert-info\"><b>Note: </b>Slicing in Python is a feature that enables accessing parts of sequences like strings, tuples, and lists. You can also use them to modify or delete the items of mutable sequences such as lists. Slices can also be applied on other objects like NumPy arrays, or Pandas data frames as we will see.\n",
    "    \n",
    "<strong>Slicing syntax:</strong> variable[start:stop:stride]\n",
    "</div>\n",
    "\n",
    "- Python provides a lot of built-in methods to work with strings. We show here some examples but check the documentaion for more information."
   ]
  },
  {
   "cell_type": "code",
   "execution_count": 132,
   "metadata": {},
   "outputs": [],
   "source": [
    "s1 = \"This is a string\"\n",
    "s2 = 'This is also string'\n",
    "s3 = \"\"\" This \n",
    "string\n",
    "spans \n",
    "multiple \n",
    "lines\"\"\""
   ]
  },
  {
   "cell_type": "markdown",
   "metadata": {},
   "source": [
    "Strings can be sliced. Below there are several examples of string slices"
   ]
  },
  {
   "cell_type": "code",
   "execution_count": 139,
   "metadata": {},
   "outputs": [
    {
     "data": {
      "text/plain": [
       "'This'"
      ]
     },
     "execution_count": 139,
     "metadata": {},
     "output_type": "execute_result"
    }
   ],
   "source": [
    "s1[:4]"
   ]
  },
  {
   "cell_type": "code",
   "execution_count": 135,
   "metadata": {},
   "outputs": [
    {
     "data": {
      "text/plain": [
       "'Ti sasrn'"
      ]
     },
     "execution_count": 135,
     "metadata": {},
     "output_type": "execute_result"
    }
   ],
   "source": [
    "s1[::2]"
   ]
  },
  {
   "cell_type": "code",
   "execution_count": 136,
   "metadata": {},
   "outputs": [
    {
     "data": {
      "text/plain": [
       "'is'"
      ]
     },
     "execution_count": 136,
     "metadata": {},
     "output_type": "execute_result"
    }
   ],
   "source": [
    "s1[5:7]"
   ]
  },
  {
   "cell_type": "code",
   "execution_count": 137,
   "metadata": {},
   "outputs": [
    {
     "data": {
      "text/plain": [
       "'string'"
      ]
     },
     "execution_count": 137,
     "metadata": {},
     "output_type": "execute_result"
    }
   ],
   "source": [
    "s1[-6:]"
   ]
  },
  {
   "cell_type": "code",
   "execution_count": 138,
   "metadata": {},
   "outputs": [
    {
     "data": {
      "text/plain": [
       "'gnirts a si sihT'"
      ]
     },
     "execution_count": 138,
     "metadata": {},
     "output_type": "execute_result"
    }
   ],
   "source": [
    "s1[::-1]"
   ]
  },
  {
   "cell_type": "markdown",
   "metadata": {},
   "source": [
    "Strings are immutable. They cannot be modified in place. But one can make a copy of it."
   ]
  },
  {
   "cell_type": "code",
   "execution_count": 141,
   "metadata": {},
   "outputs": [
    {
     "ename": "TypeError",
     "evalue": "'str' object does not support item assignment",
     "output_type": "error",
     "traceback": [
      "\u001b[0;31m---------------------------------------------------------------------------\u001b[0m",
      "\u001b[0;31mTypeError\u001b[0m                                 Traceback (most recent call last)",
      "\u001b[0;32m<ipython-input-141-fcf0a30b139f>\u001b[0m in \u001b[0;36m<module>\u001b[0;34m\u001b[0m\n\u001b[0;32m----> 1\u001b[0;31m \u001b[0ms1\u001b[0m\u001b[0;34m[\u001b[0m\u001b[0;34m:\u001b[0m\u001b[0;36m4\u001b[0m\u001b[0;34m]\u001b[0m \u001b[0;34m=\u001b[0m \u001b[0;34m'That'\u001b[0m\u001b[0;34m\u001b[0m\u001b[0;34m\u001b[0m\u001b[0m\n\u001b[0m",
      "\u001b[0;31mTypeError\u001b[0m: 'str' object does not support item assignment"
     ]
    }
   ],
   "source": [
    "s1[:4] = 'That'"
   ]
  },
  {
   "cell_type": "code",
   "execution_count": 143,
   "metadata": {},
   "outputs": [
    {
     "data": {
      "text/plain": [
       "'That is a string'"
      ]
     },
     "execution_count": 143,
     "metadata": {},
     "output_type": "execute_result"
    }
   ],
   "source": [
    "s1 = s1.replace(\"This\",\"That\")\n",
    "s1"
   ]
  },
  {
   "cell_type": "code",
   "execution_count": 144,
   "metadata": {},
   "outputs": [
    {
     "data": {
      "text/plain": [
       "True"
      ]
     },
     "execution_count": 144,
     "metadata": {},
     "output_type": "execute_result"
    }
   ],
   "source": [
    "# Unlike list s1[:] does not return a copy of s1, it returns a pointer\n",
    "new_s1 = s1[:]\n",
    "new_s1  is s1"
   ]
  },
  {
   "cell_type": "markdown",
   "metadata": {},
   "source": [
    "#### Examples of built-in functions"
   ]
  },
  {
   "cell_type": "code",
   "execution_count": 146,
   "metadata": {},
   "outputs": [
    {
     "data": {
      "text/plain": [
       "'Hello!'"
      ]
     },
     "execution_count": 146,
     "metadata": {},
     "output_type": "execute_result"
    }
   ],
   "source": [
    "s = \"hello!\"\n",
    "s.capitalize()"
   ]
  },
  {
   "cell_type": "code",
   "execution_count": 147,
   "metadata": {},
   "outputs": [
    {
     "data": {
      "text/plain": [
       "'Fulano Garcia'"
      ]
     },
     "execution_count": 147,
     "metadata": {},
     "output_type": "execute_result"
    }
   ],
   "source": [
    "s = \"fulano garcia\"\n",
    "s.title()"
   ]
  },
  {
   "cell_type": "code",
   "execution_count": 148,
   "metadata": {},
   "outputs": [
    {
     "data": {
      "text/plain": [
       "'HELLO!'"
      ]
     },
     "execution_count": 148,
     "metadata": {},
     "output_type": "execute_result"
    }
   ],
   "source": [
    "s = \"hello!\"\n",
    "s.upper()"
   ]
  },
  {
   "cell_type": "code",
   "execution_count": 149,
   "metadata": {},
   "outputs": [
    {
     "data": {
      "text/plain": [
       "13"
      ]
     },
     "execution_count": 149,
     "metadata": {},
     "output_type": "execute_result"
    }
   ],
   "source": [
    "s = \"Hello world! blablabla\"\n",
    "s.find('bla')"
   ]
  },
  {
   "cell_type": "code",
   "execution_count": 150,
   "metadata": {},
   "outputs": [
    {
     "data": {
      "text/plain": [
       "3"
      ]
     },
     "execution_count": 150,
     "metadata": {},
     "output_type": "execute_result"
    }
   ],
   "source": [
    "s = \"Hello world! blablabla\"\n",
    "s.count('bla')"
   ]
  },
  {
   "cell_type": "code",
   "execution_count": 151,
   "metadata": {},
   "outputs": [
    {
     "data": {
      "text/plain": [
       "False"
      ]
     },
     "execution_count": 151,
     "metadata": {},
     "output_type": "execute_result"
    }
   ],
   "source": [
    "s = \"124.4\"\n",
    "s.isdigit()"
   ]
  },
  {
   "cell_type": "code",
   "execution_count": 153,
   "metadata": {},
   "outputs": [
    {
     "data": {
      "text/plain": [
       "True"
      ]
     },
     "execution_count": 153,
     "metadata": {},
     "output_type": "execute_result"
    }
   ],
   "source": [
    "s = \"1244\"\n",
    "s.isdigit()"
   ]
  },
  {
   "cell_type": "code",
   "execution_count": 154,
   "metadata": {},
   "outputs": [
    {
     "data": {
      "text/plain": [
       "'  hello   '"
      ]
     },
     "execution_count": 154,
     "metadata": {},
     "output_type": "execute_result"
    }
   ],
   "source": [
    "s = \"hello\"\n",
    "s.center(10)"
   ]
  },
  {
   "cell_type": "markdown",
   "metadata": {},
   "source": [
    "### Interpolating variables into a string (f-strings)\n",
    "\n",
    "f-strings are a type of strings introduced in Python version 3.6, that enables you to write code withing a string statement. f-strings have many applications here we will cover some simple but handy examples of its use."
   ]
  },
  {
   "cell_type": "code",
   "execution_count": 119,
   "metadata": {},
   "outputs": [
    {
     "name": "stdout",
     "output_type": "stream",
     "text": [
      "The result of the product is 170\n"
     ]
    }
   ],
   "source": [
    "a = 5\n",
    "b = 34\n",
    "\n",
    "print(f\"The result of the product is {b*a}\")"
   ]
  },
  {
   "cell_type": "markdown",
   "metadata": {},
   "source": [
    "One can also cutomize the format of the variables."
   ]
  },
  {
   "cell_type": "code",
   "execution_count": 122,
   "metadata": {},
   "outputs": [
    {
     "name": "stdout",
     "output_type": "stream",
     "text": [
      "pi value: 3.1416\n"
     ]
    }
   ],
   "source": [
    "from math import pi\n",
    "\n",
    "print(f\"pi value: {pi:.4f}\")"
   ]
  },
  {
   "cell_type": "markdown",
   "metadata": {},
   "source": [
    "## Containers\n",
    "\n",
    "Python provide several efficient types of containers where python objects can be stored.\n",
    "\n",
    "- **Lists:**\n",
    "\n",
    "    - A list is an **ordered** collection of objects, that can contain different types. \n",
    "    - Lists are defined in Python by enclosing a comma-separated sequence of objects in square brackets.\n",
    "    - List are **mutable** objects, i.e., can be changed in place. \n",
    "    - A list can contain any number of objects, (the only limit is the computer’s memory).\n",
    "    - Python provide several built-in handy methods such as **append, pop, insert, extend, reverse**, etc. to modify list.\n",
    "    - **Slicing** also works in lists."
   ]
  },
  {
   "cell_type": "code",
   "execution_count": 35,
   "metadata": {},
   "outputs": [],
   "source": [
    "# A list can contain objects of different types\n",
    "mylist = [1, '4', len, \"python\", 3., 5, 8]"
   ]
  },
  {
   "cell_type": "code",
   "execution_count": 36,
   "metadata": {},
   "outputs": [
    {
     "name": "stdout",
     "output_type": "stream",
     "text": [
      "[1, '4', 3, 'python', 3.0, 5, 8]\n"
     ]
    }
   ],
   "source": [
    "# List are mutable objects\n",
    "mylist[2] = 3\n",
    "print(mylist)"
   ]
  },
  {
   "cell_type": "code",
   "execution_count": 37,
   "metadata": {},
   "outputs": [],
   "source": [
    "# Lists can be nested to arbitrary depth.\n",
    "l1 = [1, [3, 4, [3, 3]], 4]"
   ]
  },
  {
   "cell_type": "code",
   "execution_count": 38,
   "metadata": {},
   "outputs": [
    {
     "data": {
      "text/plain": [
       "False"
      ]
     },
     "execution_count": 38,
     "metadata": {},
     "output_type": "execute_result"
    }
   ],
   "source": [
    "# The order in list is important\n",
    "[1, 2, 3, 4] == [4, 1, 3, 2]"
   ]
  },
  {
   "cell_type": "code",
   "execution_count": 39,
   "metadata": {},
   "outputs": [
    {
     "name": "stdout",
     "output_type": "stream",
     "text": [
      "[1, '4', 3, 'python', 3.0, 5, 8, (1+3j)]\n"
     ]
    }
   ],
   "source": [
    "# List are dynamic\n",
    "mylist.append(1 + 3j)\n",
    "print(mylist)"
   ]
  },
  {
   "cell_type": "code",
   "execution_count": 50,
   "metadata": {},
   "outputs": [
    {
     "data": {
      "text/plain": [
       "[3, 3]"
      ]
     },
     "execution_count": 50,
     "metadata": {},
     "output_type": "execute_result"
    }
   ],
   "source": [
    "# Individual elements in a list can be accessed using an index in square brackets.\n",
    "# Note that Python starts indexing in 0\n",
    "l1[1][-1]"
   ]
  },
  {
   "cell_type": "code",
   "execution_count": 47,
   "metadata": {},
   "outputs": [
    {
     "name": "stdout",
     "output_type": "stream",
     "text": [
      "1. [3, 'python', 3.0, 5, 8, (1+3j)]\n",
      "2. ['4', 'python']\n",
      "3. [(1+3j), 5, 'python', '4']\n",
      "4. [(1+3j), 8, 5, 3.0, 'python', 3, '4', 1]\n",
      "5. [1, '4', 3, 'python', 3.0]\n"
     ]
    }
   ],
   "source": [
    "# Examples of slicing\n",
    "print(\"1.\", mylist[2:])\n",
    "print(\"2.\", mylist[1:5:2])\n",
    "print(\"3.\", mylist[-1::-2])\n",
    "print(\"4.\", mylist[::-1])\n",
    "print(\"5.\", mylist[:5])"
   ]
  },
  {
   "cell_type": "code",
   "execution_count": 51,
   "metadata": {},
   "outputs": [
    {
     "name": "stdout",
     "output_type": "stream",
     "text": [
      "True\n",
      "False\n"
     ]
    }
   ],
   "source": [
    "# mylist[:] returns a copy of the mylist\n",
    "print(mylist[:] == mylist)\n",
    "print(mylist[:] is mylist)"
   ]
  },
  {
   "cell_type": "code",
   "execution_count": 52,
   "metadata": {},
   "outputs": [
    {
     "name": "stdout",
     "output_type": "stream",
     "text": [
      "[1, 2, 3, 4, 5]\n"
     ]
    }
   ],
   "source": [
    "# The concatenation (+) operator is override in list\n",
    "new_list = [1,2] + [3, 4, 5]\n",
    "print(new_list)"
   ]
  },
  {
   "cell_type": "code",
   "execution_count": 59,
   "metadata": {},
   "outputs": [
    {
     "name": "stdout",
     "output_type": "stream",
     "text": [
      "[1, 2, 1, 2, 1, 2, 1, 2]\n"
     ]
    }
   ],
   "source": [
    "# The replication (*) operator as well\n",
    "new_list = 4 * [1, 2] \n",
    "print(new_list)"
   ]
  },
  {
   "cell_type": "markdown",
   "metadata": {},
   "source": [
    "**Examples of built-in methods**"
   ]
  },
  {
   "cell_type": "code",
   "execution_count": 65,
   "metadata": {},
   "outputs": [
    {
     "name": "stdout",
     "output_type": "stream",
     "text": [
      "new_list = [1, 2, 3, 1, 2, 3, 1, 2, 3]\n",
      "new_list = [1, 2, 3, 1, 2, 3, 1, 2]\n",
      "new_list = [1, 2, 1, 2, 3, 1, 2]\n",
      "a = 3\n"
     ]
    }
   ],
   "source": [
    "new_list = 3 * [1, 2, 3] \n",
    "print(f\"{new_list = }\")\n",
    "\n",
    "# remove last element of the list\n",
    "new_list.pop() \n",
    "print(f\"{new_list = }\")\n",
    "\n",
    "# remove element at input index\n",
    "a = new_list.pop(2) \n",
    "print(f\"{new_list = }\")\n",
    "print(f\"{a = }\")"
   ]
  },
  {
   "cell_type": "code",
   "execution_count": 69,
   "metadata": {},
   "outputs": [
    {
     "name": "stdout",
     "output_type": "stream",
     "text": [
      "a = [1, 3, 5, 7]\n",
      "a = [1, 3, 5, 7, 9]\n"
     ]
    }
   ],
   "source": [
    "# Append object at the end of the list\n",
    "a = [1, 3, 5]\n",
    "a.append(7)\n",
    "print(f\"{a = }\")\n",
    "# Extend the list with an iterable (containers are iterables)\n",
    "a.extend([9])\n",
    "print(f\"{a = }\")"
   ]
  },
  {
   "cell_type": "code",
   "execution_count": 70,
   "metadata": {},
   "outputs": [
    {
     "name": "stdout",
     "output_type": "stream",
     "text": [
      "a = [1, 2, 3, 5, 7, 9]\n"
     ]
    }
   ],
   "source": [
    "# Inserts object into list\n",
    "a.insert(1, 2)\n",
    "print(f\"{a = }\")"
   ]
  },
  {
   "cell_type": "code",
   "execution_count": 71,
   "metadata": {},
   "outputs": [
    {
     "name": "stdout",
     "output_type": "stream",
     "text": [
      "a = [9, 7, 5, 3, 2, 1]\n"
     ]
    }
   ],
   "source": [
    "# Reverse the list\n",
    "a.reverse()\n",
    "print(f\"{a = }\")"
   ]
  },
  {
   "cell_type": "code",
   "execution_count": 73,
   "metadata": {},
   "outputs": [
    {
     "name": "stdout",
     "output_type": "stream",
     "text": [
      "a = [1, 2, 3, 5, 7, 9]\n"
     ]
    }
   ],
   "source": [
    "# Order the list in increasing order\n",
    "a.sort()\n",
    "print(f\"{a = }\")"
   ]
  },
  {
   "cell_type": "markdown",
   "metadata": {},
   "source": [
    "- **Tuples:** Tuples are identical to lists in all respects, except for the following properties:\n",
    "    - Tuples are defined in Python by enclosing a comma-separated sequence of objects in parenthesis.\n",
    "    - Tuples are an example of immutable objects, i.e., cannot be modified once created as we will see in the next subsection.\n"
   ]
  },
  {
   "cell_type": "code",
   "execution_count": 75,
   "metadata": {},
   "outputs": [
    {
     "name": "stdout",
     "output_type": "stream",
     "text": [
      "tup1 = (3, 5, 6)\n",
      "tup2 = ('python',)\n",
      "tup3 = (3, (3, 5), 5)\n"
     ]
    }
   ],
   "source": [
    "# Definition of several tuples\n",
    "tup1 = (3, 5, 6)\n",
    "tup2 = (\"python\",)\n",
    "tup3 = (3, (3, 5,), 5) \n",
    "print(f\"{tup1 = }\")\n",
    "print(f\"{tup2 = }\")\n",
    "print(f\"{tup3 = }\")"
   ]
  },
  {
   "cell_type": "code",
   "execution_count": 76,
   "metadata": {},
   "outputs": [
    {
     "ename": "TypeError",
     "evalue": "'tuple' object does not support item assignment",
     "output_type": "error",
     "traceback": [
      "\u001b[0;31m---------------------------------------------------------------------------\u001b[0m",
      "\u001b[0;31mTypeError\u001b[0m                                 Traceback (most recent call last)",
      "\u001b[0;32m<ipython-input-76-1179d038b115>\u001b[0m in \u001b[0;36m<module>\u001b[0;34m\u001b[0m\n\u001b[1;32m      1\u001b[0m \u001b[0;31m# Tuples are immutable\u001b[0m\u001b[0;34m\u001b[0m\u001b[0;34m\u001b[0m\u001b[0;34m\u001b[0m\u001b[0m\n\u001b[0;32m----> 2\u001b[0;31m \u001b[0mtup1\u001b[0m\u001b[0;34m[\u001b[0m\u001b[0;36m2\u001b[0m\u001b[0;34m]\u001b[0m \u001b[0;34m=\u001b[0m \u001b[0;36m3\u001b[0m\u001b[0;34m\u001b[0m\u001b[0;34m\u001b[0m\u001b[0m\n\u001b[0m",
      "\u001b[0;31mTypeError\u001b[0m: 'tuple' object does not support item assignment"
     ]
    }
   ],
   "source": [
    "# Tuples are immutable\n",
    "tup1[2] = 3"
   ]
  },
  {
   "cell_type": "markdown",
   "metadata": {},
   "source": [
    "When to use a tuple instead of a list?\n",
    "\n",
    "   - Program execution is faster when manipulating a tuple than it is for the equivalent list. (Not noticeable when the list or tuple is small)\n",
    "\n",
    "   - When you don’t want data to be modified. \n",
    "\n",
    "   - Dictionaries (see below) require one of its components (the key) to be a value of an immutable type. A tuple can be used as a dictionary key, unlike lists.\n"
   ]
  },
  {
   "cell_type": "markdown",
   "metadata": {},
   "source": [
    "- **Dictionaries:**\n",
    "    - Dictionaries are data structures that map a colletion of specific objects (keys) to other objects (values). One value per key, i.e., dictionaries are maps in the mathematical sense.\n",
    "    - Dictionaries are defined in python with comma-separated in curly-braces {}. The elements are given as key-value pairs separated by a colon (:).\n",
    "    - Dictionaries are **mutable**.\n",
    "    - Values are accesed by key not by index.\n",
    "    - Dictionary keys must be **hashable**.\n",
    " \n",
    "<div class=\"alert alert-block alert-info\"><b>Note: </b>\n",
    "An object is hashable if it can be passed to a hash function. A hash function is any function that can be used to map data of arbitrary size to fixed-size values. The values returned by a hash function are called hash values, hash codes, digests, or simply hashes. The values are usually used to index a fixed-size table called a hash table, e.g., dictionaries.\n",
    "    \n",
    "All of the built-in immutable types you have learned about so far are hashable, and the mutable container types (lists and dictionaries) are not. So for present purposes, you can think of hashable and immutable as more or less synonymous (although they are not).\n",
    "</div>"
   ]
  },
  {
   "cell_type": "code",
   "execution_count": 82,
   "metadata": {},
   "outputs": [],
   "source": [
    "# Dictionaries definition\n",
    "d1 = {\"python\": 0, \"c\": 0, \"fortran\": 1,}\n",
    "d2 = dict([(1,1), (2,4), (3,9), (4, 16)])"
   ]
  },
  {
   "cell_type": "code",
   "execution_count": 84,
   "metadata": {},
   "outputs": [
    {
     "name": "stdout",
     "output_type": "stream",
     "text": [
      "d1 =  {'python': 0, 'c': 0, 'fortran': 1, 'matlab': 1}\n"
     ]
    }
   ],
   "source": [
    "# Dictionaries are dynamic \n",
    "d1[\"matlab\"] = 1\n",
    "print(f\"{d1 =  }\")"
   ]
  },
  {
   "cell_type": "code",
   "execution_count": 86,
   "metadata": {},
   "outputs": [
    {
     "data": {
      "text/plain": [
       "0"
      ]
     },
     "execution_count": 86,
     "metadata": {},
     "output_type": "execute_result"
    }
   ],
   "source": [
    "# Accesing values \n",
    "d1[\"python\"] "
   ]
  },
  {
   "cell_type": "code",
   "execution_count": 87,
   "metadata": {},
   "outputs": [
    {
     "data": {
      "text/plain": [
       "26"
      ]
     },
     "execution_count": 87,
     "metadata": {},
     "output_type": "execute_result"
    }
   ],
   "source": [
    "# Dictionaries can be nested\n",
    "people = {\"Elena\": {\"job\": \"PhD student\", \"age\":26, },\n",
    "          \"Rigoberto\":{\"job\": \"unemployed\", \"age\":34, }}\n",
    "people[\"Elena\"][\"age\"]"
   ]
  },
  {
   "cell_type": "code",
   "execution_count": 89,
   "metadata": {},
   "outputs": [
    {
     "data": {
      "text/plain": [
       "-8458139203682520985"
      ]
     },
     "execution_count": 89,
     "metadata": {},
     "output_type": "execute_result"
    }
   ],
   "source": [
    "# Tuples can be keys \n",
    "d3 = {(0,0): \"origin\"}\n",
    "hash((0,0))"
   ]
  },
  {
   "cell_type": "code",
   "execution_count": 90,
   "metadata": {},
   "outputs": [
    {
     "ename": "TypeError",
     "evalue": "unhashable type: 'list'",
     "output_type": "error",
     "traceback": [
      "\u001b[0;31m---------------------------------------------------------------------------\u001b[0m",
      "\u001b[0;31mTypeError\u001b[0m                                 Traceback (most recent call last)",
      "\u001b[0;32m<ipython-input-90-aa40aaf6f333>\u001b[0m in \u001b[0;36m<module>\u001b[0;34m\u001b[0m\n\u001b[1;32m      1\u001b[0m \u001b[0;31m# List cannot\u001b[0m\u001b[0;34m\u001b[0m\u001b[0;34m\u001b[0m\u001b[0;34m\u001b[0m\u001b[0m\n\u001b[0;32m----> 2\u001b[0;31m \u001b[0md3\u001b[0m \u001b[0;34m=\u001b[0m \u001b[0;34m{\u001b[0m\u001b[0;34m[\u001b[0m\u001b[0;36m0\u001b[0m\u001b[0;34m,\u001b[0m\u001b[0;36m0\u001b[0m\u001b[0;34m]\u001b[0m\u001b[0;34m:\u001b[0m \u001b[0;34m\"origin\"\u001b[0m\u001b[0;34m}\u001b[0m\u001b[0;34m\u001b[0m\u001b[0;34m\u001b[0m\u001b[0m\n\u001b[0m",
      "\u001b[0;31mTypeError\u001b[0m: unhashable type: 'list'"
     ]
    }
   ],
   "source": [
    "# List cannot\n",
    "d3 = {[0,0]: \"origin\"}"
   ]
  },
  {
   "cell_type": "markdown",
   "metadata": {},
   "source": [
    "**Examples of built-in methods**"
   ]
  },
  {
   "cell_type": "code",
   "execution_count": 97,
   "metadata": {},
   "outputs": [
    {
     "data": {
      "text/plain": [
       "[('python', 0), ('c', 0), ('fortran', 1), ('matlab', 1)]"
      ]
     },
     "execution_count": 97,
     "metadata": {},
     "output_type": "execute_result"
    }
   ],
   "source": [
    "a = d1.items() # to access key-value pairs\n",
    "# Note that a is not a list but is an iterable (check next section)\n",
    "# To create a list\n",
    "a = list(d1.items())\n",
    "a"
   ]
  },
  {
   "cell_type": "code",
   "execution_count": 98,
   "metadata": {},
   "outputs": [
    {
     "data": {
      "text/plain": [
       "['python', 'c', 'fortran', 'matlab']"
      ]
     },
     "execution_count": 98,
     "metadata": {},
     "output_type": "execute_result"
    }
   ],
   "source": [
    "d1.keys() # to access keys"
   ]
  },
  {
   "cell_type": "code",
   "execution_count": 99,
   "metadata": {},
   "outputs": [
    {
     "data": {
      "text/plain": [
       "dict_values([0, 0, 1, 1])"
      ]
     },
     "execution_count": 99,
     "metadata": {},
     "output_type": "execute_result"
    }
   ],
   "source": [
    "d1.values() # to access values"
   ]
  },
  {
   "cell_type": "code",
   "execution_count": 100,
   "metadata": {},
   "outputs": [
    {
     "data": {
      "text/plain": [
       "{'python': 0, 'c': 0, 'fortran': 1, 'matlab': 1, 1: 1, 2: 4, 3: 9, 4: 16}"
      ]
     },
     "execution_count": 100,
     "metadata": {},
     "output_type": "execute_result"
    }
   ],
   "source": [
    "d1.update(d2) # merges to dictionaries\n",
    "d1"
   ]
  },
  {
   "cell_type": "markdown",
   "metadata": {},
   "source": [
    "- **Sets:** In Naïve Set Theory a set is just a collection of elements. However, not all collections of objects can be sets (see Russell's paradox). However, we can think of python sets as sets in naïve set theory and apply the same concepts as in mathematics: intersection, union, etc. The characterics of sets are the following:\n",
    "\n",
    "    - Sets are unordered.\n",
    "    - Set elements are unique. \n",
    "    - A set can be modified, but its elements must be of an immutable type.\n",
    "    - Sets can be defined with curly braces ({}).\n"
   ]
  },
  {
   "cell_type": "code",
   "execution_count": 101,
   "metadata": {},
   "outputs": [
    {
     "name": "stdout",
     "output_type": "stream",
     "text": [
      "set1 = {1, 3, 4}\n",
      "set2 = {'fortran', 'mathematica', 'python', 'matlab'}\n",
      "set3 = {'n', 'p', 't', 'y', 'h', 'o'}\n"
     ]
    }
   ],
   "source": [
    "# Several sets definitions\n",
    "set1 = {1, 3, 4, 4}\n",
    "set2 = set([\"python\", \"fortran\", \"matlab\", \"mathematica\"])\n",
    "set3 = set(\"python\")\n",
    "\n",
    "print(f\"{set1 = }\")\n",
    "print(f\"{set2 = }\")\n",
    "print(f\"{set3 = }\")"
   ]
  },
  {
   "cell_type": "code",
   "execution_count": 102,
   "metadata": {},
   "outputs": [
    {
     "ename": "TypeError",
     "evalue": "unhashable type: 'list'",
     "output_type": "error",
     "traceback": [
      "\u001b[0;31m---------------------------------------------------------------------------\u001b[0m",
      "\u001b[0;31mTypeError\u001b[0m                                 Traceback (most recent call last)",
      "\u001b[0;32m<ipython-input-102-467c9d547911>\u001b[0m in \u001b[0;36m<module>\u001b[0;34m\u001b[0m\n\u001b[1;32m      1\u001b[0m \u001b[0;31m# Sets elements have to be immutable\u001b[0m\u001b[0;34m\u001b[0m\u001b[0;34m\u001b[0m\u001b[0;34m\u001b[0m\u001b[0m\n\u001b[0;32m----> 2\u001b[0;31m \u001b[0ms\u001b[0m \u001b[0;34m=\u001b[0m \u001b[0mset\u001b[0m\u001b[0;34m(\u001b[0m\u001b[0;34m[\u001b[0m\u001b[0;34m[\u001b[0m\u001b[0;36m2\u001b[0m\u001b[0;34m,\u001b[0m \u001b[0;36m3\u001b[0m\u001b[0;34m,\u001b[0m \u001b[0;36m4\u001b[0m\u001b[0;34m]\u001b[0m\u001b[0;34m,\u001b[0m \u001b[0;36m1\u001b[0m\u001b[0;34m]\u001b[0m\u001b[0;34m)\u001b[0m\u001b[0;34m\u001b[0m\u001b[0;34m\u001b[0m\u001b[0m\n\u001b[0m",
      "\u001b[0;31mTypeError\u001b[0m: unhashable type: 'list'"
     ]
    }
   ],
   "source": [
    "# Sets elements have to be immutable\n",
    "s = set([[2, 3, 4], 1])"
   ]
  },
  {
   "cell_type": "markdown",
   "metadata": {},
   "source": [
    "**Examples of built-in methods and operators applied to sets**"
   ]
  },
  {
   "cell_type": "code",
   "execution_count": 107,
   "metadata": {},
   "outputs": [
    {
     "name": "stdout",
     "output_type": "stream",
     "text": [
      "s1 | s2 = {'quux', 'qux', 'foo', 'baz', 'bar'}\n",
      "s1.union(s2) = {'quux', 'qux', 'foo', 'baz', 'bar'}\n"
     ]
    }
   ],
   "source": [
    "s1 = {'foo', 'bar', 'baz'}\n",
    "s2 = {'baz', 'qux', 'quux'}\n",
    "\n",
    "# Union\n",
    "print(f\"{s1 | s2 = }\")\n",
    "print(f\"{s1.union(s2) = }\")"
   ]
  },
  {
   "cell_type": "code",
   "execution_count": 108,
   "metadata": {},
   "outputs": [
    {
     "name": "stdout",
     "output_type": "stream",
     "text": [
      "s1 & s2 = {'baz'}\n",
      "s1.intersection(s2) = {'baz'}\n"
     ]
    }
   ],
   "source": [
    "s1 = {'foo', 'bar', 'baz'}\n",
    "s2 = {'baz', 'qux', 'quux'}\n",
    "\n",
    "# Intersection\n",
    "print(f\"{s1 & s2 = }\")\n",
    "print(f\"{s1.intersection(s2) = }\")"
   ]
  },
  {
   "cell_type": "code",
   "execution_count": 109,
   "metadata": {},
   "outputs": [
    {
     "name": "stdout",
     "output_type": "stream",
     "text": [
      "s1 - s2 = {'foo', 'bar'}\n",
      "s1.difference(s2) = {'foo', 'bar'}\n"
     ]
    }
   ],
   "source": [
    "s1 = {'foo', 'bar', 'baz'}\n",
    "s2 = {'baz', 'qux', 'quux'}\n",
    "\n",
    "# Difference\n",
    "print(f\"{s1 - s2 = }\")\n",
    "print(f\"{s1.difference(s2) = }\")"
   ]
  },
  {
   "cell_type": "code",
   "execution_count": 110,
   "metadata": {},
   "outputs": [
    {
     "name": "stdout",
     "output_type": "stream",
     "text": [
      "s1.isdisjoint(s2) = False\n"
     ]
    }
   ],
   "source": [
    "s1 = {'foo', 'bar', 'baz'}\n",
    "s2 = {'baz', 'qux', 'quux'}\n",
    "\n",
    "# Check whether two sets are disjoint\n",
    "print(f\"{s1.isdisjoint(s2) = }\")"
   ]
  },
  {
   "cell_type": "code",
   "execution_count": 114,
   "metadata": {},
   "outputs": [
    {
     "name": "stdout",
     "output_type": "stream",
     "text": [
      "s1.issubset(s2) = True\n",
      "s1 <= s2 = True\n",
      "s1 < s2 = True\n",
      "s2.issuperset(s1) = True\n",
      "s2 >= s1 = True\n",
      "s2 > s1 = True\n"
     ]
    }
   ],
   "source": [
    "s1 = {'foo', 'bar', 'baz'}\n",
    "s2 = {'foo', 'bar', 'baz', 'qux', 'quux'}\n",
    "\n",
    "# Check whether if a set is subset of another\n",
    "print(f\"{s1.issubset(s2) = }\")\n",
    "print(f\"{s1 <= s2 = }\")\n",
    "\n",
    "# Check if subset is proper subset\n",
    "print(f\"{s1 < s2 = }\")\n",
    "\n",
    "# The other way\n",
    "print(f\"{s2.issuperset(s1) = }\")\n",
    "print(f\"{s2 >= s1 = }\")\n",
    "print(f\"{s2 > s1 = }\")"
   ]
  },
  {
   "cell_type": "code",
   "execution_count": 118,
   "metadata": {},
   "outputs": [
    {
     "name": "stdout",
     "output_type": "stream",
     "text": [
      "s1 = {'qux', 'foo', 'baz', 'bar'}\n",
      "s1 = {'foo', 'baz', 'bar'}\n",
      "s1 = {'foo', 'baz', 'bar'}\n",
      "s1 = {'baz', 'bar'}\n"
     ]
    }
   ],
   "source": [
    "s1 = {'foo', 'bar', 'baz'}\n",
    "\n",
    "s1.add('qux') # adding element\n",
    "print(f\"{s1 = }\")\n",
    "\n",
    "s1.remove('qux') # remove element from set. Raises an exception if element not in set\n",
    "print(f\"{s1 = }\")\n",
    "\n",
    "s1.discard('qux') # remove element from set. Does not raise and exception if element not in set\n",
    "print(f\"{s1 = }\")\n",
    "\n",
    "s1.pop() # remove random element from set\n",
    "print(f\"{s1 = }\")"
   ]
  }
 ],
 "metadata": {
  "kernelspec": {
   "display_name": "Python 3",
   "language": "python",
   "name": "python3"
  },
  "language_info": {
   "codemirror_mode": {
    "name": "ipython",
    "version": 3
   },
   "file_extension": ".py",
   "mimetype": "text/x-python",
   "name": "python",
   "nbconvert_exporter": "python",
   "pygments_lexer": "ipython3",
   "version": "3.8.5"
  }
 },
 "nbformat": 4,
 "nbformat_minor": 4
}
